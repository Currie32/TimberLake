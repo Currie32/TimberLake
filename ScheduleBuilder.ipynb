{
 "cells": [
  {
   "cell_type": "markdown",
   "metadata": {},
   "source": [
    "Note: Don't worry about trying to understand the code. I'm hoping that this can help you to make the schedule quickier and avoid you having to double check your work as often. If you think this can helpful, then we can work to make it more detailed/useful."
   ]
  },
  {
   "cell_type": "code",
   "execution_count": 1,
   "metadata": {
    "collapsed": true
   },
   "outputs": [],
   "source": [
    "import pandas as pd\n",
    "import numpy as np"
   ]
  },
  {
   "cell_type": "code",
   "execution_count": 20,
   "metadata": {
    "collapsed": true
   },
   "outputs": [],
   "source": [
    "# I might be missing some activities\n",
    "activities = ['swimming','boating','hockey','basketball','electives1','elective2','gymnastics','baseball','football',\n",
    "              'soccer','tennis','lacrosse']\n",
    "days = ['Monday','Tuesday','Wednesday','Thursday','Friday','Saturday','Sunday']\n",
    "periods = ['Period1','Period2','Period3','Period4','Period5','Period6','Period7']"
   ]
  },
  {
   "cell_type": "code",
   "execution_count": 21,
   "metadata": {
    "collapsed": true
   },
   "outputs": [],
   "source": [
    "boys_freshmen, boys_freshmen_df = {}, pd.DataFrame(columns = [day for day in days])\n",
    "boys_cadets, boys_cadets_df = {}, pd.DataFrame(columns = [day for day in days])\n",
    "boys_sophmore, boys_sophmore_df = {}, pd.DataFrame(columns = [day for day in days])\n",
    "girls_freshmen, girls_freshmen_df = {}, pd.DataFrame(columns = [day for day in days])\n",
    "girls_cadets, girls_cadets_df = {}, pd.DataFrame(columns = [day for day in days])\n",
    "girls_sophmore, girls_sophmore_df = {}, pd.DataFrame(columns = [day for day in days])\n",
    "\n",
    "groups = [boys_freshmen, boys_cadets, boys_sophmore, girls_freshmen, girls_cadets, girls_sophmore]"
   ]
  },
  {
   "cell_type": "code",
   "execution_count": 22,
   "metadata": {
    "collapsed": true
   },
   "outputs": [],
   "source": [
    "# Limit the number of times a group can have an activity during the week\n",
    "# We can specify this to each group as well - i.e. boys more basketball, girls more gymnastics...\n",
    "weekly_limits = {'swimming': 5,\n",
    "                 'boating': 2,\n",
    "                 'basketball': 3,\n",
    "                 'baseball': 2,\n",
    "                 'soccer': 2}"
   ]
  },
  {
   "cell_type": "code",
   "execution_count": 23,
   "metadata": {
    "collapsed": false
   },
   "outputs": [],
   "source": [
    "# This sets all activity periods to None\n",
    "for group in groups:\n",
    "    for day in days:\n",
    "        group[day] = {}\n",
    "        for period in periods:\n",
    "            group[day][period] = None"
   ]
  },
  {
   "cell_type": "code",
   "execution_count": 24,
   "metadata": {
    "collapsed": false,
    "scrolled": true
   },
   "outputs": [
    {
     "data": {
      "text/plain": [
       "{'Friday': {'Period1': None,\n",
       "  'Period2': None,\n",
       "  'Period3': None,\n",
       "  'Period4': None,\n",
       "  'Period5': None,\n",
       "  'Period6': None,\n",
       "  'Period7': None},\n",
       " 'Monday': {'Period1': None,\n",
       "  'Period2': None,\n",
       "  'Period3': None,\n",
       "  'Period4': None,\n",
       "  'Period5': None,\n",
       "  'Period6': None,\n",
       "  'Period7': None},\n",
       " 'Saturday': {'Period1': None,\n",
       "  'Period2': None,\n",
       "  'Period3': None,\n",
       "  'Period4': None,\n",
       "  'Period5': None,\n",
       "  'Period6': None,\n",
       "  'Period7': None},\n",
       " 'Sunday': {'Period1': None,\n",
       "  'Period2': None,\n",
       "  'Period3': None,\n",
       "  'Period4': None,\n",
       "  'Period5': None,\n",
       "  'Period6': None,\n",
       "  'Period7': None},\n",
       " 'Thursday': {'Period1': None,\n",
       "  'Period2': None,\n",
       "  'Period3': None,\n",
       "  'Period4': None,\n",
       "  'Period5': None,\n",
       "  'Period6': None,\n",
       "  'Period7': None},\n",
       " 'Tuesday': {'Period1': None,\n",
       "  'Period2': None,\n",
       "  'Period3': None,\n",
       "  'Period4': None,\n",
       "  'Period5': None,\n",
       "  'Period6': None,\n",
       "  'Period7': None},\n",
       " 'Wednesday': {'Period1': None,\n",
       "  'Period2': None,\n",
       "  'Period3': None,\n",
       "  'Period4': None,\n",
       "  'Period5': None,\n",
       "  'Period6': None,\n",
       "  'Period7': None}}"
      ]
     },
     "execution_count": 24,
     "metadata": {},
     "output_type": "execute_result"
    }
   ],
   "source": [
    "# Here's a preview of that\n",
    "boys_cadets"
   ]
  },
  {
   "cell_type": "code",
   "execution_count": 25,
   "metadata": {
    "collapsed": false
   },
   "outputs": [],
   "source": [
    "# Before the schuedule is created, we can preset some values\n",
    "# In this case, the first period on Wednesday is always 'Lazy Wednesday'\n",
    "for group in groups:\n",
    "    group['Wednesday']['Period1'] = 'Lazy Wednesday'"
   ]
  },
  {
   "cell_type": "code",
   "execution_count": 7,
   "metadata": {
    "collapsed": true
   },
   "outputs": [],
   "source": [
    "# Before an activity is added to a period the following conditions must be satisfied \n",
    "def check_conditions(activity, group, day, period):\n",
    "    condition = True\n",
    "    \n",
    "    # No two groups can have the same activity at the same time\n",
    "    for other_groups in groups:\n",
    "        if other_groups[day][period] == activity:\n",
    "            condition = False\n",
    "\n",
    "    # A group can't have an activity at the same time during the week\n",
    "    # i.e. If the cadet boys have soccer Monday, Period 1, \n",
    "    #      then they will not have it during Period 1 for the rest of the week\n",
    "    for other_days in days:\n",
    "        if group[other_days][period] == activity:\n",
    "            condition = False\n",
    "            \n",
    "    # A group can't have the same activity twice in a day\n",
    "    for other_periods in periods:\n",
    "        if group[day][other_periods] == activity:\n",
    "            condition = False\n",
    "\n",
    "    # Limits an activity to its weekly limit\n",
    "    if activity in weekly_limits:\n",
    "        count = 1\n",
    "        for other_days in days:\n",
    "            for other_periods in periods:\n",
    "                if group[other_days][other_periods] == activity:\n",
    "                    count += 1\n",
    "        if count > weekly_limits[activity]:\n",
    "            condition = False\n",
    "        \n",
    "    # Can't have boating and swimming on the same day\n",
    "    if activity in ['swimming', 'boating']:\n",
    "        for other_periods in periods:\n",
    "            if group[day][other_periods] == 'swimming' or group[day][other_periods] == 'boating':\n",
    "                condition = False\n",
    "        \n",
    "    return condition\n",
    "\n",
    "# Note: These rules are simplified, we can make more exact ones later."
   ]
  },
  {
   "cell_type": "code",
   "execution_count": 8,
   "metadata": {
    "collapsed": false
   },
   "outputs": [],
   "source": [
    "# Assigns the activities to the periods\n",
    "def add_activities():\n",
    "    for activity in activities:\n",
    "        for group in groups:\n",
    "            for day in days:\n",
    "                for period in periods:\n",
    "                    if group[day][period] == None:\n",
    "                        if check_conditions(activity, group, day, period):\n",
    "                            group[day][period] = activity"
   ]
  },
  {
   "cell_type": "code",
   "execution_count": 9,
   "metadata": {
    "collapsed": true
   },
   "outputs": [],
   "source": [
    "add_activities()"
   ]
  },
  {
   "cell_type": "code",
   "execution_count": 10,
   "metadata": {
    "collapsed": false,
    "scrolled": true
   },
   "outputs": [],
   "source": [
    "boys_freshmen_df = boys_freshmen_df.from_dict(boys_freshmen)[[day for day in days]]\n",
    "boys_cadets_df = boys_cadets_df.from_dict(boys_cadets)[[day for day in days]]\n",
    "boys_sophmore_df = boys_sophmore_df.from_dict(boys_sophmore)[[day for day in days]]\n",
    "girls_freshmen_df = girls_freshmen_df.from_dict(girls_freshmen)[[day for day in days]]\n",
    "girls_cadets_df = girls_cadets_df.from_dict(girls_cadets)[[day for day in days]]\n",
    "girls_sophmore_df = girls_sophmore_df.from_dict(girls_sophmore)[[day for day in days]]"
   ]
  },
  {
   "cell_type": "code",
   "execution_count": 11,
   "metadata": {
    "collapsed": false
   },
   "outputs": [],
   "source": [
    "used_activities = {}\n",
    "unused_activities = {}\n",
    "for day in days:\n",
    "    used_activities[day] = {}\n",
    "    unused_activities[day] = {}\n",
    "    for period in periods:\n",
    "        used_activities[day][period] = []\n",
    "        unused_activities[day][period] = []"
   ]
  },
  {
   "cell_type": "code",
   "execution_count": 12,
   "metadata": {
    "collapsed": true
   },
   "outputs": [],
   "source": [
    "for group in groups:\n",
    "    for day in days:\n",
    "        for period in periods:\n",
    "            used_activities[day][period].append(group[day][period])"
   ]
  },
  {
   "cell_type": "code",
   "execution_count": 13,
   "metadata": {
    "collapsed": false
   },
   "outputs": [],
   "source": [
    "for day in days:\n",
    "    for period in periods:\n",
    "        for activity in activities:\n",
    "            if activity not in used_activities[day][period]:\n",
    "                unused_activities[day][period].append(activity)"
   ]
  },
  {
   "cell_type": "code",
   "execution_count": 14,
   "metadata": {
    "collapsed": false,
    "scrolled": true
   },
   "outputs": [
    {
     "data": {
      "text/html": [
       "<div>\n",
       "<table border=\"1\" class=\"dataframe\">\n",
       "  <thead>\n",
       "    <tr style=\"text-align: right;\">\n",
       "      <th></th>\n",
       "      <th>Friday</th>\n",
       "      <th>Monday</th>\n",
       "      <th>Saturday</th>\n",
       "      <th>Sunday</th>\n",
       "      <th>Thursday</th>\n",
       "      <th>Tuesday</th>\n",
       "      <th>Wednesday</th>\n",
       "    </tr>\n",
       "  </thead>\n",
       "  <tbody>\n",
       "    <tr>\n",
       "      <th>Period1</th>\n",
       "      <td>[boating, basketball, gymnastics, baseball, te...</td>\n",
       "      <td>[boating, baseball, football, soccer, tennis, ...</td>\n",
       "      <td>[basketball, electives1, baseball, soccer, ten...</td>\n",
       "      <td>[swimming, basketball, baseball, soccer, tenni...</td>\n",
       "      <td>[gymnastics, baseball, football, soccer, tenni...</td>\n",
       "      <td>[boating, baseball, football, soccer, tennis, ...</td>\n",
       "      <td>[swimming, boating, hockey, basketball, electi...</td>\n",
       "    </tr>\n",
       "    <tr>\n",
       "      <th>Period2</th>\n",
       "      <td>[boating, basketball, baseball, soccer, tennis...</td>\n",
       "      <td>[boating, baseball, football, soccer, tennis, ...</td>\n",
       "      <td>[basketball, electives1, baseball, soccer, ten...</td>\n",
       "      <td>[swimming, hockey, basketball, baseball, socce...</td>\n",
       "      <td>[boating, baseball, football, soccer, tennis, ...</td>\n",
       "      <td>[boating, baseball, football, soccer, tennis, ...</td>\n",
       "      <td>[elective2, gymnastics, baseball, soccer, tenn...</td>\n",
       "    </tr>\n",
       "    <tr>\n",
       "      <th>Period3</th>\n",
       "      <td>[boating, basketball, electives1, baseball, so...</td>\n",
       "      <td>[boating, elective2, gymnastics, soccer, tenni...</td>\n",
       "      <td>[swimming, hockey, basketball, baseball, footb...</td>\n",
       "      <td>[swimming, basketball, electives1, baseball, s...</td>\n",
       "      <td>[boating, basketball, baseball, football, tenn...</td>\n",
       "      <td>[boating, elective2, gymnastics, soccer, tenni...</td>\n",
       "      <td>[boating, baseball, football, soccer, tennis, ...</td>\n",
       "    </tr>\n",
       "    <tr>\n",
       "      <th>Period4</th>\n",
       "      <td>[swimming, boating, hockey, baseball, tennis, ...</td>\n",
       "      <td>[boating, elective2, gymnastics, soccer, tenni...</td>\n",
       "      <td>[swimming, hockey, basketball, baseball, footb...</td>\n",
       "      <td>[swimming, hockey, basketball, electives1, gym...</td>\n",
       "      <td>[boating, basketball, baseball, football, tenn...</td>\n",
       "      <td>[boating, elective2, gymnastics, soccer, tenni...</td>\n",
       "      <td>[boating, baseball, football, soccer, tennis, ...</td>\n",
       "    </tr>\n",
       "    <tr>\n",
       "      <th>Period5</th>\n",
       "      <td>[boating, basketball, baseball, football, socc...</td>\n",
       "      <td>[boating, basketball, electives1, soccer, tenn...</td>\n",
       "      <td>[swimming, boating, basketball, elective2, bas...</td>\n",
       "      <td>[swimming, basketball, electives1, elective2, ...</td>\n",
       "      <td>[swimming, boating, hockey, basketball, baseba...</td>\n",
       "      <td>[boating, basketball, electives1, soccer, tenn...</td>\n",
       "      <td>[boating, elective2, gymnastics, baseball, ten...</td>\n",
       "    </tr>\n",
       "    <tr>\n",
       "      <th>Period6</th>\n",
       "      <td>[boating, basketball, baseball, football, socc...</td>\n",
       "      <td>[boating, basketball, electives1, soccer, tenn...</td>\n",
       "      <td>[swimming, boating, basketball, elective2, gym...</td>\n",
       "      <td>[swimming, basketball, elective2, baseball, fo...</td>\n",
       "      <td>[swimming, boating, hockey, basketball, gymnas...</td>\n",
       "      <td>[boating, basketball, electives1, soccer, tenn...</td>\n",
       "      <td>[swimming, boating, hockey, soccer, tennis, la...</td>\n",
       "    </tr>\n",
       "    <tr>\n",
       "      <th>Period7</th>\n",
       "      <td>[boating, basketball, electives1, elective2, b...</td>\n",
       "      <td>[swimming, boating, hockey, soccer, tennis, la...</td>\n",
       "      <td>[swimming, boating, basketball, baseball, foot...</td>\n",
       "      <td>[swimming, boating, basketball, gymnastics, ba...</td>\n",
       "      <td>[boating, basketball, electives1, elective2, b...</td>\n",
       "      <td>[swimming, boating, hockey, soccer, tennis, la...</td>\n",
       "      <td>[boating, basketball, electives1, baseball, te...</td>\n",
       "    </tr>\n",
       "  </tbody>\n",
       "</table>\n",
       "</div>"
      ],
      "text/plain": [
       "                                                    Friday  \\\n",
       "Period1  [boating, basketball, gymnastics, baseball, te...   \n",
       "Period2  [boating, basketball, baseball, soccer, tennis...   \n",
       "Period3  [boating, basketball, electives1, baseball, so...   \n",
       "Period4  [swimming, boating, hockey, baseball, tennis, ...   \n",
       "Period5  [boating, basketball, baseball, football, socc...   \n",
       "Period6  [boating, basketball, baseball, football, socc...   \n",
       "Period7  [boating, basketball, electives1, elective2, b...   \n",
       "\n",
       "                                                    Monday  \\\n",
       "Period1  [boating, baseball, football, soccer, tennis, ...   \n",
       "Period2  [boating, baseball, football, soccer, tennis, ...   \n",
       "Period3  [boating, elective2, gymnastics, soccer, tenni...   \n",
       "Period4  [boating, elective2, gymnastics, soccer, tenni...   \n",
       "Period5  [boating, basketball, electives1, soccer, tenn...   \n",
       "Period6  [boating, basketball, electives1, soccer, tenn...   \n",
       "Period7  [swimming, boating, hockey, soccer, tennis, la...   \n",
       "\n",
       "                                                  Saturday  \\\n",
       "Period1  [basketball, electives1, baseball, soccer, ten...   \n",
       "Period2  [basketball, electives1, baseball, soccer, ten...   \n",
       "Period3  [swimming, hockey, basketball, baseball, footb...   \n",
       "Period4  [swimming, hockey, basketball, baseball, footb...   \n",
       "Period5  [swimming, boating, basketball, elective2, bas...   \n",
       "Period6  [swimming, boating, basketball, elective2, gym...   \n",
       "Period7  [swimming, boating, basketball, baseball, foot...   \n",
       "\n",
       "                                                    Sunday  \\\n",
       "Period1  [swimming, basketball, baseball, soccer, tenni...   \n",
       "Period2  [swimming, hockey, basketball, baseball, socce...   \n",
       "Period3  [swimming, basketball, electives1, baseball, s...   \n",
       "Period4  [swimming, hockey, basketball, electives1, gym...   \n",
       "Period5  [swimming, basketball, electives1, elective2, ...   \n",
       "Period6  [swimming, basketball, elective2, baseball, fo...   \n",
       "Period7  [swimming, boating, basketball, gymnastics, ba...   \n",
       "\n",
       "                                                  Thursday  \\\n",
       "Period1  [gymnastics, baseball, football, soccer, tenni...   \n",
       "Period2  [boating, baseball, football, soccer, tennis, ...   \n",
       "Period3  [boating, basketball, baseball, football, tenn...   \n",
       "Period4  [boating, basketball, baseball, football, tenn...   \n",
       "Period5  [swimming, boating, hockey, basketball, baseba...   \n",
       "Period6  [swimming, boating, hockey, basketball, gymnas...   \n",
       "Period7  [boating, basketball, electives1, elective2, b...   \n",
       "\n",
       "                                                   Tuesday  \\\n",
       "Period1  [boating, baseball, football, soccer, tennis, ...   \n",
       "Period2  [boating, baseball, football, soccer, tennis, ...   \n",
       "Period3  [boating, elective2, gymnastics, soccer, tenni...   \n",
       "Period4  [boating, elective2, gymnastics, soccer, tenni...   \n",
       "Period5  [boating, basketball, electives1, soccer, tenn...   \n",
       "Period6  [boating, basketball, electives1, soccer, tenn...   \n",
       "Period7  [swimming, boating, hockey, soccer, tennis, la...   \n",
       "\n",
       "                                                 Wednesday  \n",
       "Period1  [swimming, boating, hockey, basketball, electi...  \n",
       "Period2  [elective2, gymnastics, baseball, soccer, tenn...  \n",
       "Period3  [boating, baseball, football, soccer, tennis, ...  \n",
       "Period4  [boating, baseball, football, soccer, tennis, ...  \n",
       "Period5  [boating, elective2, gymnastics, baseball, ten...  \n",
       "Period6  [swimming, boating, hockey, soccer, tennis, la...  \n",
       "Period7  [boating, basketball, electives1, baseball, te...  "
      ]
     },
     "execution_count": 14,
     "metadata": {},
     "output_type": "execute_result"
    }
   ],
   "source": [
    "# This shows all the activities that are not in use during a period\n",
    "unused_activities_df = pd.DataFrame().from_dict(unused_activities)\n",
    "pd.option_context('display.max_rows', None, 'display.max_columns', None)\n",
    "unused_activities_df"
   ]
  },
  {
   "cell_type": "code",
   "execution_count": 19,
   "metadata": {
    "collapsed": false
   },
   "outputs": [
    {
     "data": {
      "text/html": [
       "<div>\n",
       "<table border=\"1\" class=\"dataframe\">\n",
       "  <thead>\n",
       "    <tr style=\"text-align: right;\">\n",
       "      <th></th>\n",
       "      <th>Monday</th>\n",
       "      <th>Tuesday</th>\n",
       "      <th>Wednesday</th>\n",
       "      <th>Thursday</th>\n",
       "      <th>Friday</th>\n",
       "      <th>Saturday</th>\n",
       "      <th>Sunday</th>\n",
       "    </tr>\n",
       "  </thead>\n",
       "  <tbody>\n",
       "    <tr>\n",
       "      <th>Period1</th>\n",
       "      <td>basketball</td>\n",
       "      <td>electives1</td>\n",
       "      <td>Lazy Wednesday</td>\n",
       "      <td>swimming</td>\n",
       "      <td>hockey</td>\n",
       "      <td>elective2</td>\n",
       "      <td>football</td>\n",
       "    </tr>\n",
       "    <tr>\n",
       "      <th>Period2</th>\n",
       "      <td>electives1</td>\n",
       "      <td>basketball</td>\n",
       "      <td>swimming</td>\n",
       "      <td>hockey</td>\n",
       "      <td>gymnastics</td>\n",
       "      <td>football</td>\n",
       "      <td>elective2</td>\n",
       "    </tr>\n",
       "    <tr>\n",
       "      <th>Period3</th>\n",
       "      <td>swimming</td>\n",
       "      <td>hockey</td>\n",
       "      <td>basketball</td>\n",
       "      <td>electives1</td>\n",
       "      <td>elective2</td>\n",
       "      <td>boating</td>\n",
       "      <td>gymnastics</td>\n",
       "    </tr>\n",
       "    <tr>\n",
       "      <th>Period4</th>\n",
       "      <td>hockey</td>\n",
       "      <td>swimming</td>\n",
       "      <td>electives1</td>\n",
       "      <td>elective2</td>\n",
       "      <td>soccer</td>\n",
       "      <td>gymnastics</td>\n",
       "      <td>boating</td>\n",
       "    </tr>\n",
       "    <tr>\n",
       "      <th>Period5</th>\n",
       "      <td>baseball</td>\n",
       "      <td>football</td>\n",
       "      <td>hockey</td>\n",
       "      <td>gymnastics</td>\n",
       "      <td>electives1</td>\n",
       "      <td>soccer</td>\n",
       "      <td>None</td>\n",
       "    </tr>\n",
       "    <tr>\n",
       "      <th>Period6</th>\n",
       "      <td>football</td>\n",
       "      <td>baseball</td>\n",
       "      <td>elective2</td>\n",
       "      <td>tennis</td>\n",
       "      <td>lacrosse</td>\n",
       "      <td>None</td>\n",
       "      <td>hockey</td>\n",
       "    </tr>\n",
       "    <tr>\n",
       "      <th>Period7</th>\n",
       "      <td>elective2</td>\n",
       "      <td>gymnastics</td>\n",
       "      <td>football</td>\n",
       "      <td>lacrosse</td>\n",
       "      <td>swimming</td>\n",
       "      <td>hockey</td>\n",
       "      <td>electives1</td>\n",
       "    </tr>\n",
       "  </tbody>\n",
       "</table>\n",
       "</div>"
      ],
      "text/plain": [
       "             Monday     Tuesday       Wednesday    Thursday      Friday  \\\n",
       "Period1  basketball  electives1  Lazy Wednesday    swimming      hockey   \n",
       "Period2  electives1  basketball        swimming      hockey  gymnastics   \n",
       "Period3    swimming      hockey      basketball  electives1   elective2   \n",
       "Period4      hockey    swimming      electives1   elective2      soccer   \n",
       "Period5    baseball    football          hockey  gymnastics  electives1   \n",
       "Period6    football    baseball       elective2      tennis    lacrosse   \n",
       "Period7   elective2  gymnastics        football    lacrosse    swimming   \n",
       "\n",
       "           Saturday      Sunday  \n",
       "Period1   elective2    football  \n",
       "Period2    football   elective2  \n",
       "Period3     boating  gymnastics  \n",
       "Period4  gymnastics     boating  \n",
       "Period5      soccer        None  \n",
       "Period6        None      hockey  \n",
       "Period7      hockey  electives1  "
      ]
     },
     "execution_count": 19,
     "metadata": {},
     "output_type": "execute_result"
    }
   ],
   "source": [
    "# Here is an example of a weekly schedule\n",
    "# Some periods say 'None' - this is because I haven't made the code good enough yet\n",
    "boys_sophmore_df"
   ]
  },
  {
   "cell_type": "markdown",
   "metadata": {},
   "source": [
    "Note: Let me know what you think. Also, don't worry if you think this will create 'work' for me. I like doing this sort of thing and helping you guys out."
   ]
  },
  {
   "cell_type": "code",
   "execution_count": null,
   "metadata": {
    "collapsed": true
   },
   "outputs": [],
   "source": [
    " "
   ]
  }
 ],
 "metadata": {
  "anaconda-cloud": {},
  "kernelspec": {
   "display_name": "Python [default]",
   "language": "python",
   "name": "python3"
  },
  "language_info": {
   "codemirror_mode": {
    "name": "ipython",
    "version": 3
   },
   "file_extension": ".py",
   "mimetype": "text/x-python",
   "name": "python",
   "nbconvert_exporter": "python",
   "pygments_lexer": "ipython3",
   "version": "3.5.2"
  }
 },
 "nbformat": 4,
 "nbformat_minor": 1
}
